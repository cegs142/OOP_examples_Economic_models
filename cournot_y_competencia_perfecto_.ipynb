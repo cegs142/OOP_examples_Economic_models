{
  "nbformat": 4,
  "nbformat_minor": 0,
  "metadata": {
    "colab": {
      "provenance": []
    },
    "kernelspec": {
      "name": "python3",
      "display_name": "Python 3"
    },
    "language_info": {
      "name": "python"
    }
  },
  "cells": [
    {
      "cell_type": "markdown",
      "source": [
        "## Oligopolio de Cournot y Competencia Perfecta\n"
      ],
      "metadata": {
        "id": "dl9MMElI1_ua"
      }
    },
    {
      "cell_type": "markdown",
      "source": [
        "# 1. Oligopolio de Cournot\n",
        "El oligopolio de Cournot muestra como se comportan los mercados donimados por un pequeño número de empresas, en este caso 2 empresas.\n",
        "\n",
        "Los supuestos de este modelo son:\n",
        "\n",
        "1. Dos firmas\n",
        "2. Los costos son iguales -- Cmg1 = Cmg2\n",
        "3. La demanda es lineal\n",
        "\n",
        "Uno de los aspectos más importantes para entender este modelo es que las empresas decidiran cuanto producir, dependiento de la decision tomada por la otra empresa.\n",
        "\n",
        "\n"
      ],
      "metadata": {
        "id": "BWDgKfzu2O7L"
      }
    },
    {
      "cell_type": "markdown",
      "source": [
        "\n",
        "# # 2. Competencia Perfecta\n",
        "En la competencia perfecta, hay muchas firmas que no tienen poder para influir en los precios. Estas empresas producen bienes homogéneos, y el precio se determina únicamente por la oferta y demanda del mercado.\n",
        "\n",
        "Los supuestos del modelo son:\n",
        "\n",
        "  1.  Muchas firmas: Ninguna empresa puede influir en el precio. El comportamiento de una empresa individual simula a una pequeña firma que toma el precio del mercado.\n",
        "\n",
        "  2. Costos iguales: Todas las empresas tienen los mismos costos.\n",
        "\n",
        "  3. Información perfecta: Todos los participantes del mercado (empresas y consumidores) tienen acceso a toda la información relevante, como precios y costos\n",
        "\n",
        "En competencia perfecta, cada empresa ajusta su producción para que el costo marginal sea igual al precio de mercado."
      ],
      "metadata": {
        "id": "UhuaAnK04TeM"
      }
    },
    {
      "cell_type": "code",
      "source": [
        "class OC_CP:\n",
        "    def __init__(self, costo_marginal1, costo_marginal2, demanda, costo_adicional_fijo, costo_adicional_variable, interseccion_CP, coeficiente_de_pendiente, costo_fijo):\n",
        "        self.costo_marginal1 = costo_marginal1\n",
        "        self.costo_marginal2 = costo_marginal2\n",
        "        self.demanda = demanda\n",
        "        self.Q1 = 0\n",
        "        self.Q2 = 0\n",
        "        self.costo_adicional_fijo = costo_adicional_fijo\n",
        "        self.costo_adicional_variable = costo_adicional_variable\n",
        "        self.interseccion_CP = interseccion_CP\n",
        "        self.coeficiente_de_pendiente = coeficiente_de_pendiente\n",
        "        self.costo_fijo = costo_fijo\n",
        "        self.produccion = 0\n",
        "\n",
        "\n",
        "    # Funciones del Oligopolio de Cournot\n",
        "\n",
        "    def Equilibrio(self):\n",
        "        self.Q1 = ((self.demanda - costo_marginal1)/3)\n",
        "        self.Q2 = ((self.demanda - costo_marginal2)/3)\n",
        "        return (self.Q1, self.Q2)\n",
        "\n",
        "    def beneficios (self, B_empresa=True):\n",
        "      if B_empresa:\n",
        "        Precio = self.demanda - self.Q1 - self.Q2\n",
        "        return (Precio * self.Q1)-(self.Q1*self.costo_marginal1)\n",
        "      else:\n",
        "        Precio= self.demanda - self.Q1 - self.Q2\n",
        "        return (Precio * self.Q2)-(self.Q2*self.costo_marginal2)\n",
        "\n",
        "    def Beneficios(self):\n",
        "        return (self.beneficios(B_empresa=True), self.beneficios(B_empresa=False))\n",
        "\n",
        "    def Precios(self):\n",
        "        Precio = self.demanda - self.Q1 - self.Q2\n",
        "        return Precio\n",
        "\n",
        "    # Funciones del mercado en competencia perfecta\n",
        "\n",
        "    def PreciosCP(self):\n",
        "        preciocp = self.costo_adicional_variable * self.produccion + self.costo_adicional_fijo\n",
        "        return preciocp\n",
        "\n",
        "    def EquilibrioCP(self):\n",
        "        self.produccion = ((self.interseccion_CP - self.costo_adicional_fijo * self.costo_adicional_variable) / (self.costo_adicional_variable * self.coeficiente_de_pendiente + 1))\n",
        "        return self.produccion\n",
        "\n",
        "    def CostoTotal(self):\n",
        "        costo_total = self.produccion**self.costo_adicional_variable + self.costo_adicional_fijo * self.produccion + self.costo_fijo\n",
        "        return costo_total\n",
        "\n",
        "    def BeneficiosCP(self):\n",
        "        beneficioCP = self.PreciosCP() * self.produccion - (self.CostoTotal())\n",
        "        return beneficioCP\n"
      ],
      "metadata": {
        "id": "tR4KEKg07roc"
      },
      "execution_count": null,
      "outputs": []
    },
    {
      "cell_type": "code",
      "source": [
        "# Atributos Oligopolio Cournot\n",
        "\n",
        "demanda = 30\n",
        "costo_marginal1 = 15\n",
        "costo_marginal2 = 15\n",
        "\n",
        "# Atributos Competencia Perfecta\n",
        "\n",
        "costo_adicional_fijo = 20\n",
        "costo_adicional_variable = 2\n",
        "interseccion_CP = 100\n",
        "coeficiente_de_pendiente = 2\n",
        "costo_fijo = 10\n",
        "\n",
        "# Ejecución modelo oligopolio cournot\n",
        "\n",
        "mercado =OC_CP(costo_marginal1, costo_marginal2, demanda, costo_adicional_fijo, costo_adicional_variable, interseccion_CP, coeficiente_de_pendiente, costo_fijo)\n",
        "\n",
        "\n",
        "equilibrio = mercado.Equilibrio()\n",
        "beneficios = mercado.Beneficios()\n",
        "Precio_equilibrio = mercado.Precios()\n",
        "print(f\"Las cantidades de equilibrio en Oligopolio es: {equilibrio}\")\n",
        "print(f\"Los beneficios en oligopolio son: {beneficios}\")\n",
        "print(f\"El precio de equilibrio en oligopolio es: {Precio_equilibrio}\")\n",
        "\n",
        "## Ejecucion modelo de competencia perfecta\n",
        "\n",
        "# SIMULACIÓN TAMAÑO DE MERCADO\n",
        "TAMAÑO_MERCADO = 1  # Cambia este valor para probar el efecto del tamaño de mercado en los resultados\n",
        "\n",
        "\n",
        "if TAMAÑO_MERCADO > 0.99:\n",
        "    costo_adicional_fijo *= TAMAÑO_MERCADO\n",
        "    costo_adicional_variable *= TAMAÑO_MERCADO\n",
        "    interseccion_CP *= TAMAÑO_MERCADO\n",
        "    coeficiente_de_pendiente *= TAMAÑO_MERCADO\n",
        "    costo_fijo *= TAMAÑO_MERCADO\n",
        "\n",
        "    # simulacion de mercado\n",
        "    mercadoCP = OC_CP(costo_marginal1=costo_marginal1, costo_marginal2=costo_marginal2, demanda=demanda,\n",
        "                      costo_adicional_fijo=costo_adicional_fijo,\n",
        "                      costo_adicional_variable=costo_adicional_variable,\n",
        "                      interseccion_CP=interseccion_CP,\n",
        "                      coeficiente_de_pendiente=coeficiente_de_pendiente,\n",
        "                      costo_fijo=costo_fijo)\n",
        "\n",
        "\n",
        "    equilibrioCP = mercadoCP.EquilibrioCP()\n",
        "    preciosCP = mercadoCP.PreciosCP()\n",
        "    beneficioCP = mercadoCP.BeneficiosCP()\n",
        "\n",
        "    # Imprimir los resultados\n",
        "    print(f\"Equilibrio en Competencia Perfecta es: {equilibrioCP}\")\n",
        "    print(f\"Precios en Competencia Perfecta: {preciosCP}\")\n",
        "    print(f\"Beneficio en Competencia Perfecta: {beneficioCP}\")\n",
        "\n",
        "else:\n",
        "    print(\"El tamaño de mercado debe ser mayor a 1 para ver los efectos en los resultados.\")\n"
      ],
      "metadata": {
        "colab": {
          "base_uri": "https://localhost:8080/"
        },
        "id": "ayP3U4cGSg-0",
        "outputId": "fa29e8dd-548e-4f76-8759-58dd2f497952"
      },
      "execution_count": null,
      "outputs": [
        {
          "output_type": "stream",
          "name": "stdout",
          "text": [
            "Las cantidades de equilibrio son en Oligopolio es: (5.0, 5.0)\n",
            "Los beneficios en oligopolio son: (25.0, 25.0)\n",
            "El precio de equilibrio en oligopolio es: 20.0\n",
            "Equilibrio en Competencia Perfecta es: 12.0\n",
            "Precios en Competencia Perfecta: 44.0\n",
            "Beneficio en Competencia Perfecta: 134.0\n"
          ]
        }
      ]
    },
    {
      "cell_type": "markdown",
      "source": [
        "# AUTORES:\n",
        "\n",
        "###Paula Andrea Guzman Cañas - Carlos Eduardo Galvis Salamanca\n",
        "\n",
        "###Estudiantes Universidad Externado de Colombia\n",
        "\n",
        "###Guiado por: Andrés Daniel Godoy Ortiz\n",
        "\n",
        "###Docente Universidad Externado de Colombia y Universidad de la Sabana"
      ],
      "metadata": {
        "id": "E4_FOBgrwvwR"
      }
    },
    {
      "cell_type": "code",
      "source": [],
      "metadata": {
        "id": "Yir9SiQlw1vV"
      },
      "execution_count": null,
      "outputs": []
    }
  ]
}